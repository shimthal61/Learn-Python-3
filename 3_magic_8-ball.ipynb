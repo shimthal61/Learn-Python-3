{
 "cells": [
  {
   "cell_type": "code",
   "execution_count": 1,
   "metadata": {},
   "outputs": [
    {
     "name": "stdout",
     "output_type": "stream",
     "text": [
      "Harvey asks: Am I ok?\n",
      "Magic 8-Ball's answer: Very doubtful.\n"
     ]
    }
   ],
   "source": [
    "name = input(\"What is your name?\")\n",
    "question = input(\"Please ask a closed question.\")\n",
    "\n",
    "import random\n",
    "random_number = random.randint(1,12)\n",
    "\n",
    "# print(random_number)\n",
    "\n",
    "if random_number == 1:\n",
    "  answer = \"Yes - definitely.\"\n",
    "elif random_number == 2:\n",
    "  answer = \"It is decidedly so.\"\n",
    "elif random_number == 3:\n",
    "  answer = \"Without a doubt.\"\n",
    "elif random_number == 4:\n",
    "  answer = \"Reply hazy, try again.\"\n",
    "elif random_number == 5:\n",
    "  answer = \"Ask again later.\"\n",
    "elif random_number == 6:\n",
    "  answer=  \"Better not tell you now.\"\n",
    "elif random_number == 7:\n",
    "  answer = \"My sources say no.\"\n",
    "elif random_number == 8:\n",
    "  answer = \"Outlook not so good.\"\n",
    "elif random_number == 9:\n",
    "  answer = \"Very doubtful.\"\n",
    "elif random_number == 10:\n",
    "  answer = \"Unlucky mate.\"\n",
    "elif random_number == 11:\n",
    "  answer = \"Dunno bro.\"\n",
    "elif random_number == 12:\n",
    "  answer = \"Leave me alone!\"\n",
    "else:\n",
    "  print(\"Error\")\n",
    "\n",
    "if name == \"\":\n",
    "  print(\"Question: \" + question)\n",
    "  print(\"Magic 8-Ball's answer: \" + answer)\n",
    "elif question == \"\":\n",
    "  print(\"Please enter a question\")\n",
    "else:\n",
    "  print(name + \" asks: \" + question)\n",
    "  print(\"Magic 8-Ball's answer: \" + answer)"
   ]
  }
 ],
 "metadata": {
  "kernelspec": {
   "display_name": "Python 3.10.4 64-bit",
   "language": "python",
   "name": "python3"
  },
  "language_info": {
   "codemirror_mode": {
    "name": "ipython",
    "version": 3
   },
   "file_extension": ".py",
   "mimetype": "text/x-python",
   "name": "python",
   "nbconvert_exporter": "python",
   "pygments_lexer": "ipython3",
   "version": "3.10.4"
  },
  "orig_nbformat": 4,
  "vscode": {
   "interpreter": {
    "hash": "5a27f0ac4dd6f6c6ea30b6db2d89f01a0bd0a420959383a268d7a87926edd4ae"
   }
  }
 },
 "nbformat": 4,
 "nbformat_minor": 2
}
