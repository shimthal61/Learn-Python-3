{
 "cells": [
  {
   "cell_type": "code",
   "execution_count": 14,
   "metadata": {},
   "outputs": [
    {
     "name": "stdout",
     "output_type": "stream",
     "text": [
      "$591.38\n"
     ]
    }
   ],
   "source": [
    "weight = float(input(\"In lbs, how much does your package weigh?\"))\n",
    "shipping = input(\"What shipping method would you like to use?\")\n",
    "ground_flat = 20\n",
    "ground_prem_flat = 125\n",
    "\n",
    "# Ground Shipping\n",
    "if shipping == \"Ground Shipping\":\n",
    "  if weight <= 2:\n",
    "    cost = (1.5*weight) + ground_flat\n",
    "    print(\"$\" + \"%.2f\" % cost)\n",
    "  elif weight <= 6:\n",
    "    cost = (3*weight) + ground_flat\n",
    "    print(\"$\" + \"%.2f\" % cost) \n",
    "  elif weight <= 10:\n",
    "    cost = (4*weight) + ground_flat\n",
    "    print(\"$\" + \"%.2f\" % cost)\n",
    "  else:\n",
    "    cost = (4.75*weight) + ground_flat\n",
    "    print(\"$\" + \"%.2f\" % cost)\n",
    "elif shipping == \"Ground Shipping Premium\":\n",
    "  print(\"$\" + str(ground_prem_flat))\n",
    "elif shipping == \"Drone Shipping\":\n",
    "  if weight <= 2:\n",
    "    cost = (4.5*weight)\n",
    "    print(\"$\" + \"%.2f\" % cost)\n",
    "  elif weight <= 6:\n",
    "    cost = (9*weight)\n",
    "    print(\"$\" + \"%.2f\" % cost)\n",
    "  elif weight <= 10:\n",
    "    cost = (12*weight)\n",
    "    print(\"$\" + \"%.2f\" % cost)\n",
    "  else:\n",
    "    cost = (14.25*weight)\n",
    "    print(\"$\" + \"%.2f\" % cost)\n",
    "else:\n",
    "  print(\"Invalid Shipping Option. Please try again\")\n"
   ]
  }
 ],
 "metadata": {
  "kernelspec": {
   "display_name": "Python 3.10.4 64-bit",
   "language": "python",
   "name": "python3"
  },
  "language_info": {
   "codemirror_mode": {
    "name": "ipython",
    "version": 3
   },
   "file_extension": ".py",
   "mimetype": "text/x-python",
   "name": "python",
   "nbconvert_exporter": "python",
   "pygments_lexer": "ipython3",
   "version": "3.10.4"
  },
  "orig_nbformat": 4,
  "vscode": {
   "interpreter": {
    "hash": "5a27f0ac4dd6f6c6ea30b6db2d89f01a0bd0a420959383a268d7a87926edd4ae"
   }
  }
 },
 "nbformat": 4,
 "nbformat_minor": 2
}
