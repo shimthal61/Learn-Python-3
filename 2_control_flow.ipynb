{
 "cells": [
  {
   "cell_type": "markdown",
   "metadata": {},
   "source": [
    "# Boolean Expression"
   ]
  },
  {
   "cell_type": "markdown",
   "metadata": {},
   "source": [
    "Boolean expressions are \"yes\" or \"no\" statements - they can either be `True` or `False`. "
   ]
  },
  {
   "cell_type": "markdown",
   "metadata": {},
   "source": [
    "# Relational Operators: Equals and Not Equals"
   ]
  },
  {
   "cell_type": "markdown",
   "metadata": {},
   "source": [
    "Relational operators compare two items and return either `True` or `False`. "
   ]
  },
  {
   "cell_type": "code",
   "execution_count": 5,
   "metadata": {},
   "outputs": [
    {
     "data": {
      "text/plain": [
       "True"
      ]
     },
     "execution_count": 5,
     "metadata": {},
     "output_type": "execute_result"
    }
   ],
   "source": [
    "1 == 1"
   ]
  },
  {
   "cell_type": "code",
   "execution_count": 6,
   "metadata": {},
   "outputs": [
    {
     "data": {
      "text/plain": [
       "True"
      ]
     },
     "execution_count": 6,
     "metadata": {},
     "output_type": "execute_result"
    }
   ],
   "source": [
    "1 != 2"
   ]
  },
  {
   "cell_type": "code",
   "execution_count": 8,
   "metadata": {},
   "outputs": [
    {
     "data": {
      "text/plain": [
       "False"
      ]
     },
     "execution_count": 8,
     "metadata": {},
     "output_type": "execute_result"
    }
   ],
   "source": [
    "'7' == 7 # This is returned as false, as one is a string and another is an integer."
   ]
  },
  {
   "cell_type": "markdown",
   "metadata": {},
   "source": [
    "# Boolean Variables"
   ]
  },
  {
   "cell_type": "markdown",
   "metadata": {},
   "source": [
    "`True` and `False` have their own special variable type - `bool`. Any variable assigned to `True` or `False` are called boolean *variables*. \n",
    "One way to create these variables is to assign a bool to them."
   ]
  },
  {
   "cell_type": "code",
   "execution_count": 2,
   "metadata": {},
   "outputs": [],
   "source": [
    "set_to_true = True\n",
    "set_to_false = False"
   ]
  },
  {
   "cell_type": "markdown",
   "metadata": {},
   "source": [
    "You can also set a variable to a boolean expression."
   ]
  },
  {
   "cell_type": "code",
   "execution_count": 5,
   "metadata": {},
   "outputs": [
    {
     "name": "stdout",
     "output_type": "stream",
     "text": [
      "True\n",
      "False\n",
      "True\n"
     ]
    }
   ],
   "source": [
    "bool_one = 5 != 7 \n",
    "bool_two = 1 + 1 != 2\n",
    "bool_three = 3 * 3 == 9\n",
    "\n",
    "print(bool_one)\n",
    " \n",
    "print(bool_two)\n",
    " \n",
    "print(bool_three)"
   ]
  },
  {
   "cell_type": "markdown",
   "metadata": {},
   "source": [
    "# If Statement"
   ]
  },
  {
   "cell_type": "markdown",
   "metadata": {},
   "source": [
    "`if` statements can be used to create control flow in your code."
   ]
  },
  {
   "cell_type": "code",
   "execution_count": 8,
   "metadata": {},
   "outputs": [
    {
     "name": "stdout",
     "output_type": "stream",
     "text": [
      "I know it is you, Dave! Go away!\n"
     ]
    }
   ],
   "source": [
    "user_name = \"angela_catlady_87\"\n",
    "\n",
    "if user_name == \"Dave\":\n",
    "  print(\"Get off my computer Dave!\")\n",
    "elif user_name == \"angela_catlady_87\":\n",
    "  print(\"I know it is you, Dave! Go away!\")"
   ]
  },
  {
   "cell_type": "markdown",
   "metadata": {},
   "source": [
    "# Relational Operators II"
   ]
  },
  {
   "cell_type": "markdown",
   "metadata": {},
   "source": [
    "- '>' greater than\n",
    "- '>=' greater than or equal to\n",
    "- '<' less than\n",
    "- '<=' less than or equal to"
   ]
  },
  {
   "cell_type": "code",
   "execution_count": 9,
   "metadata": {},
   "outputs": [
    {
     "name": "stdout",
     "output_type": "stream",
     "text": [
      "These numbers are the same\n",
      "You have enough credits to graduate!\n"
     ]
    }
   ],
   "source": [
    "x = 20\n",
    "y = 20\n",
    "\n",
    "if x == y:\n",
    "  print(\"These numbers are the same\")\n",
    "\n",
    "\n",
    "credits = 120\n",
    "\n",
    "if credits >= 120:\n",
    "  print(\"You have enough credits to graduate!\")"
   ]
  },
  {
   "cell_type": "markdown",
   "metadata": {},
   "source": [
    "# Boolean Operators: `and`"
   ]
  },
  {
   "cell_type": "markdown",
   "metadata": {},
   "source": [
    "Often, the conditions you want to check in your conditional statement will require more than one boolean expression to cover. In these cases, you can build larger boolean expressions using boolean operators. These operators (also known as logical operators) combine smaller boolean expressions into larger boolean expressions."
   ]
  },
  {
   "cell_type": "markdown",
   "metadata": {},
   "source": [
    "There are three boolean operators that we will cover:\n",
    "\n",
    "- `and`\n",
    "- `or`\n",
    "- `not`"
   ]
  },
  {
   "cell_type": "markdown",
   "metadata": {},
   "source": [
    "## `and`"
   ]
  },
  {
   "cell_type": "markdown",
   "metadata": {},
   "source": [
    "`and` combines two boolean expressions and evaluates as `True` if both its components are True, but `False` otherwise."
   ]
  },
  {
   "cell_type": "code",
   "execution_count": 13,
   "metadata": {},
   "outputs": [
    {
     "data": {
      "text/plain": [
       "False"
      ]
     },
     "execution_count": 13,
     "metadata": {},
     "output_type": "execute_result"
    }
   ],
   "source": [
    "(1 + 1 == 2) and (2 + 2 == 4)   # True because all true\n",
    " \n",
    "(1 > 9) and (5 != 6)            # False because one part is false\n",
    " \n",
    "(1 + 1 == 2) and (2 < 1)        # False because one part it false\n",
    " \n",
    "(0 == 10) and (1 + 1 == 1)      # False because all is false"
   ]
  },
  {
   "cell_type": "code",
   "execution_count": 14,
   "metadata": {},
   "outputs": [
    {
     "name": "stdout",
     "output_type": "stream",
     "text": [
      "You meet the requirements to graduate!\n"
     ]
    }
   ],
   "source": [
    "credits = 120\n",
    "gpa = 3.4\n",
    "\n",
    "if credits >= 120 and gpa >= 2.0:\n",
    "  print(\"You meet the requirements to graduate!\")"
   ]
  },
  {
   "cell_type": "markdown",
   "metadata": {},
   "source": [
    "# Boolean Operators: `or`"
   ]
  },
  {
   "cell_type": "markdown",
   "metadata": {},
   "source": [
    "The boolean operator or combines two expressions into a larger expression that is `True` if *either* component is True."
   ]
  },
  {
   "cell_type": "code",
   "execution_count": 15,
   "metadata": {},
   "outputs": [
    {
     "data": {
      "text/plain": [
       "False"
      ]
     },
     "execution_count": 15,
     "metadata": {},
     "output_type": "execute_result"
    }
   ],
   "source": [
    "True or (3 + 4 == 7)    # True\n",
    "(1 - 1 == 0) or False   # True\n",
    "(2 < 0) or True         # True\n",
    "(3 == 8) or (3 > 4)     # False"
   ]
  },
  {
   "cell_type": "code",
   "execution_count": 16,
   "metadata": {},
   "outputs": [
    {
     "name": "stdout",
     "output_type": "stream",
     "text": [
      "You have met at least one of the requirements.\n"
     ]
    }
   ],
   "source": [
    "credits = 118\n",
    "gpa = 2.0\n",
    "\n",
    "if credits >= 120 or gpa >= 2.0:\n",
    "  print(\"You have met at least one of the requirements.\")"
   ]
  },
  {
   "cell_type": "markdown",
   "metadata": {},
   "source": [
    "# Boolean Operators: `not`"
   ]
  },
  {
   "cell_type": "markdown",
   "metadata": {},
   "source": [
    "This operator is straightforward: when applied to any boolean expression it reverses the boolean value. So if we have a True statement and apply a not operator we get a False statement."
   ]
  },
  {
   "cell_type": "markdown",
   "metadata": {},
   "source": [
    "In Python we add the not operator to the very beginning of the statement:"
   ]
  },
  {
   "cell_type": "code",
   "execution_count": 17,
   "metadata": {},
   "outputs": [
    {
     "data": {
      "text/plain": [
       "True"
      ]
     },
     "execution_count": 17,
     "metadata": {},
     "output_type": "execute_result"
    }
   ],
   "source": [
    "not 1 + 1 == 2  # False\n",
    "not 7 < 0       # True"
   ]
  },
  {
   "cell_type": "code",
   "execution_count": 18,
   "metadata": {},
   "outputs": [
    {
     "name": "stdout",
     "output_type": "stream",
     "text": [
      "Your GPA is not high enough to graduate.\n"
     ]
    }
   ],
   "source": [
    "credits = 120\n",
    "gpa = 1.8\n",
    "\n",
    "if not credits >= 120:\n",
    "  print(\"You do not have enough credits to graduate.\")\n",
    "elif not gpa >= 2.0:\n",
    "  print(\"Your GPA is not high enough to graduate.\")\n",
    "elif not credits >= 120 and not gpa >= 2.0:\n",
    "  print(\"You do not meet either requirement to graduate!\")"
   ]
  },
  {
   "cell_type": "markdown",
   "metadata": {},
   "source": [
    "# `Else` Statements"
   ]
  },
  {
   "cell_type": "markdown",
   "metadata": {},
   "source": [
    "`else` statements can be used to execute code when the conditions of an if statement are not met."
   ]
  },
  {
   "cell_type": "code",
   "execution_count": 4,
   "metadata": {},
   "outputs": [
    {
     "name": "stdout",
     "output_type": "stream",
     "text": [
      "You do not meet the requirements to graduate.\n"
     ]
    }
   ],
   "source": [
    "credits = 120\n",
    "gpa = 1.9\n",
    "\n",
    "if (credits >= 120) and (gpa >= 2.0):\n",
    "  print(\"You meet the requirements to graduate!\")\n",
    "else:\n",
    "  print(\"You do not meet the requirements to graduate.\")"
   ]
  },
  {
   "cell_type": "markdown",
   "metadata": {},
   "source": [
    "# Else If Statements"
   ]
  },
  {
   "cell_type": "code",
   "execution_count": 5,
   "metadata": {},
   "outputs": [
    {
     "name": "stdout",
     "output_type": "stream",
     "text": [
      "B\n"
     ]
    }
   ],
   "source": [
    "grade = 86\n",
    "\n",
    "if grade >= 90:\n",
    "  print(\"A\")\n",
    "elif grade >= 80:\n",
    "  print(\"B\")\n",
    "elif grade >= 70:\n",
    "  print(\"C\")\n",
    "elif grade >= 60:\n",
    "  print(\"D\")\n",
    "else:\n",
    "  print(\"F\")"
   ]
  }
 ],
 "metadata": {
  "kernelspec": {
   "display_name": "Python 3.10.4 64-bit",
   "language": "python",
   "name": "python3"
  },
  "language_info": {
   "codemirror_mode": {
    "name": "ipython",
    "version": 3
   },
   "file_extension": ".py",
   "mimetype": "text/x-python",
   "name": "python",
   "nbconvert_exporter": "python",
   "pygments_lexer": "ipython3",
   "version": "3.10.4"
  },
  "orig_nbformat": 4,
  "vscode": {
   "interpreter": {
    "hash": "5a27f0ac4dd6f6c6ea30b6db2d89f01a0bd0a420959383a268d7a87926edd4ae"
   }
  }
 },
 "nbformat": 4,
 "nbformat_minor": 2
}
